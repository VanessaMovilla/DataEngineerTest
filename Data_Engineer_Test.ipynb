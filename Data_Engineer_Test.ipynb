{
  "nbformat": 4,
  "nbformat_minor": 0,
  "metadata": {
    "colab": {
      "name": "Data_Engineer_Test.ipynb",
      "provenance": [],
      "collapsed_sections": [],
      "toc_visible": true
    },
    "kernelspec": {
      "display_name": "Python 3",
      "language": "python",
      "name": "python3"
    },
    "language_info": {
      "codemirror_mode": {
        "name": "ipython",
        "version": 3
      },
      "file_extension": ".py",
      "mimetype": "text/x-python",
      "name": "python",
      "nbconvert_exporter": "python",
      "pygments_lexer": "ipython3",
      "version": "3.7.3"
    }
  },
  "cells": [
    {
      "cell_type": "markdown",
      "metadata": {
        "colab_type": "text",
        "id": "3RRhb4lnEoWw"
      },
      "source": [
        "# Data Engineer Test\n",
        "## Vanessa Movilla "
      ]
    },
    {
      "cell_type": "markdown",
      "metadata": {
        "colab_type": "text",
        "id": "6-LekrhRTzUY"
      },
      "source": [
        "## Exploración de la Data"
      ]
    },
    {
      "cell_type": "code",
      "metadata": {
        "id": "DcNia_39ULFA",
        "colab_type": "code",
        "colab": {}
      },
      "source": [
        "import datetime\n",
        "from google.cloud import bigquery\n",
        "from google.oauth2 import service_account\n",
        "from sklearn.linear_model import LinearRegression\n",
        "import pandas as pd\n",
        "import pytz\n",
        "import matplotlib.pyplot as plt\n",
        "import numpy as np\n"
      ],
      "execution_count": null,
      "outputs": []
    },
    {
      "cell_type": "markdown",
      "metadata": {
        "id": "b3NTk3fyrTT9",
        "colab_type": "text"
      },
      "source": [
        "Conexión con BigQuery"
      ]
    },
    {
      "cell_type": "code",
      "metadata": {
        "id": "998bXzYqfJUH",
        "colab_type": "code",
        "colab": {}
      },
      "source": [
        "credentials = service_account.Credentials.from_service_account_file(\n",
        "'credentials.json')\n",
        "project_id ='seleccion-analyticlab'\n",
        "client = bigquery.Client(credentials= credentials,project=project_id)"
      ],
      "execution_count": null,
      "outputs": []
    },
    {
      "cell_type": "markdown",
      "metadata": {
        "id": "lHKrXt5NOSVq",
        "colab_type": "text"
      },
      "source": [
        "A continuación se muestran algunos ejemplos de los querys realizados para explorar los datos de la tabla 'Homicidios_2018'. No se encontraron problemas significativos con la calidad de los datos, sin embargo se listan algunos hallazgos a tener en cuenta. \n",
        "- En una de las filas solo hay información en la columna 'Cantidad' por lo que es eliminada\n",
        "- El nombre de la variable Clase_de_empleado no describe correctamente los valores que toma, un ejemplo de esto es el hecho de que 'Afrodescendiente' y 'Etnia Indigena' no son una clase de empleado.Sin embargo, esto no afecta el analisis que se realizará por lo que es simplemente una observación.\n",
        "- Hay algunas columnas que no nos brindan mucha información, como lo son la de Cantidad y Profesión, por lo que se omitiran al momento de hacer el analisis.\n",
        "- El formato en el que se encuentra la primera columna dificulta su tratamiento( incluye texto correspondiente a hora y las letras AM), sin embargo se puede pasar a fecha tomando solo los primeros 8 caracteres del string. "
      ]
    },
    {
      "cell_type": "markdown",
      "metadata": {
        "id": "-TDA1ylSkTi1",
        "colab_type": "text"
      },
      "source": [
        "### Querys\n"
      ]
    },
    {
      "cell_type": "code",
      "metadata": {
        "id": "DmeKMbhBXIMI",
        "colab_type": "code",
        "colab": {
          "base_uri": "https://localhost:8080/",
          "height": 356
        },
        "outputId": "d7c4f319-66a5-47b6-b0ad-52aa72df8001"
      },
      "source": [
        "query = \"\"\"\n",
        "SELECT  * \n",
        "FROM `seleccion-analyticlab.HomicidiosColombia.Homicidios_2018` \n",
        "LIMIT 5\n",
        "\"\"\"\n",
        "query_job = client.query(query)\n",
        "results_head = query_job.result().to_dataframe()\n",
        "results_head"
      ],
      "execution_count": null,
      "outputs": [
        {
          "output_type": "execute_result",
          "data": {
            "text/html": [
              "<div>\n",
              "<style scoped>\n",
              "    .dataframe tbody tr th:only-of-type {\n",
              "        vertical-align: middle;\n",
              "    }\n",
              "\n",
              "    .dataframe tbody tr th {\n",
              "        vertical-align: top;\n",
              "    }\n",
              "\n",
              "    .dataframe thead th {\n",
              "        text-align: right;\n",
              "    }\n",
              "</style>\n",
              "<table border=\"1\" class=\"dataframe\">\n",
              "  <thead>\n",
              "    <tr style=\"text-align: right;\">\n",
              "      <th></th>\n",
              "      <th>Fecha</th>\n",
              "      <th>Departamento</th>\n",
              "      <th>Municipio</th>\n",
              "      <th>Dia</th>\n",
              "      <th>Hora</th>\n",
              "      <th>Barrio</th>\n",
              "      <th>Zona</th>\n",
              "      <th>Clase_de_sitio</th>\n",
              "      <th>Arma_empleada</th>\n",
              "      <th>Movil_agresor</th>\n",
              "      <th>Movil_victima</th>\n",
              "      <th>Edad</th>\n",
              "      <th>Sexo</th>\n",
              "      <th>Estado_civil</th>\n",
              "      <th>Pais_de_nacimiento</th>\n",
              "      <th>Clase_de_empleado</th>\n",
              "      <th>Profesion</th>\n",
              "      <th>Escolaridad</th>\n",
              "      <th>Codigo_DANE</th>\n",
              "      <th>Cantidad</th>\n",
              "    </tr>\n",
              "  </thead>\n",
              "  <tbody>\n",
              "    <tr>\n",
              "      <th>0</th>\n",
              "      <td>None</td>\n",
              "      <td>None</td>\n",
              "      <td>None</td>\n",
              "      <td>None</td>\n",
              "      <td>None</td>\n",
              "      <td>None</td>\n",
              "      <td>None</td>\n",
              "      <td>None</td>\n",
              "      <td>None</td>\n",
              "      <td>None</td>\n",
              "      <td>None</td>\n",
              "      <td>None</td>\n",
              "      <td>None</td>\n",
              "      <td>None</td>\n",
              "      <td>None</td>\n",
              "      <td>None</td>\n",
              "      <td>None</td>\n",
              "      <td>None</td>\n",
              "      <td>None</td>\n",
              "      <td>12667</td>\n",
              "    </tr>\n",
              "    <tr>\n",
              "      <th>1</th>\n",
              "      <td>11/04/2018 12:00:00 AM</td>\n",
              "      <td>META</td>\n",
              "      <td>SAN MARTÍN</td>\n",
              "      <td>Miércoles</td>\n",
              "      <td>11:24:00</td>\n",
              "      <td>MANANTIAL</td>\n",
              "      <td>URBANA</td>\n",
              "      <td>TIENDA</td>\n",
              "      <td>ARMA DE FUEGO</td>\n",
              "      <td>PASAJERO MOTOCICLETA</td>\n",
              "      <td>A PIE</td>\n",
              "      <td>33</td>\n",
              "      <td>MASCULINO</td>\n",
              "      <td>UNION LIBRE</td>\n",
              "      <td>COLOMBIA</td>\n",
              "      <td>EMPLEADO PARTICULAR</td>\n",
              "      <td>-</td>\n",
              "      <td>SECUNDARIA</td>\n",
              "      <td>50689000</td>\n",
              "      <td>1</td>\n",
              "    </tr>\n",
              "    <tr>\n",
              "      <th>2</th>\n",
              "      <td>11/07/2018 12:00:00 AM</td>\n",
              "      <td>META</td>\n",
              "      <td>SAN MARTÍN</td>\n",
              "      <td>Miércoles</td>\n",
              "      <td>20:30:00</td>\n",
              "      <td>PEDRO DAZA</td>\n",
              "      <td>URBANA</td>\n",
              "      <td>CASAS DE HABITACION</td>\n",
              "      <td>ARMA DE FUEGO</td>\n",
              "      <td>A PIE</td>\n",
              "      <td>A PIE</td>\n",
              "      <td>48</td>\n",
              "      <td>MASCULINO</td>\n",
              "      <td>UNION LIBRE</td>\n",
              "      <td>COLOMBIA</td>\n",
              "      <td>INDEPENDIENTE</td>\n",
              "      <td>-</td>\n",
              "      <td>PRIMARIA</td>\n",
              "      <td>50689000</td>\n",
              "      <td>1</td>\n",
              "    </tr>\n",
              "    <tr>\n",
              "      <th>3</th>\n",
              "      <td>03/01/2018 12:00:00 AM</td>\n",
              "      <td>META</td>\n",
              "      <td>VILLAVICENCIO (CT)</td>\n",
              "      <td>Miércoles</td>\n",
              "      <td>13:10:00</td>\n",
              "      <td>MORICHAL</td>\n",
              "      <td>URBANA</td>\n",
              "      <td>CASAS DE HABITACION</td>\n",
              "      <td>ARMA DE FUEGO</td>\n",
              "      <td>A PIE</td>\n",
              "      <td>A PIE</td>\n",
              "      <td>27</td>\n",
              "      <td>MASCULINO</td>\n",
              "      <td>UNION LIBRE</td>\n",
              "      <td>COLOMBIA</td>\n",
              "      <td>INDEPENDIENTE</td>\n",
              "      <td>-</td>\n",
              "      <td>SECUNDARIA</td>\n",
              "      <td>50001000</td>\n",
              "      <td>1</td>\n",
              "    </tr>\n",
              "    <tr>\n",
              "      <th>4</th>\n",
              "      <td>04/01/2018 12:00:00 AM</td>\n",
              "      <td>META</td>\n",
              "      <td>VILLAVICENCIO (CT)</td>\n",
              "      <td>Jueves</td>\n",
              "      <td>20:57:00</td>\n",
              "      <td>BOSQUES DE ABAJAM*</td>\n",
              "      <td>URBANA</td>\n",
              "      <td>VIAS PUBLICAS</td>\n",
              "      <td>ARMA DE FUEGO</td>\n",
              "      <td>PASAJERO MOTOCICLETA</td>\n",
              "      <td>A PIE</td>\n",
              "      <td>29</td>\n",
              "      <td>MASCULINO</td>\n",
              "      <td>SOLTERO</td>\n",
              "      <td>COLOMBIA</td>\n",
              "      <td>EMPLEADO PARTICULAR</td>\n",
              "      <td>-</td>\n",
              "      <td>PRIMARIA</td>\n",
              "      <td>50001000</td>\n",
              "      <td>1</td>\n",
              "    </tr>\n",
              "  </tbody>\n",
              "</table>\n",
              "</div>"
            ],
            "text/plain": [
              "                    Fecha Departamento  ... Codigo_DANE Cantidad\n",
              "0                    None         None  ...        None    12667\n",
              "1  11/04/2018 12:00:00 AM         META  ...    50689000        1\n",
              "2  11/07/2018 12:00:00 AM         META  ...    50689000        1\n",
              "3  03/01/2018 12:00:00 AM         META  ...    50001000        1\n",
              "4  04/01/2018 12:00:00 AM         META  ...    50001000        1\n",
              "\n",
              "[5 rows x 20 columns]"
            ]
          },
          "metadata": {
            "tags": []
          },
          "execution_count": 195
        }
      ]
    },
    {
      "cell_type": "code",
      "metadata": {
        "id": "4TcIXHTR84mu",
        "colab_type": "code",
        "colab": {
          "base_uri": "https://localhost:8080/",
          "height": 126
        },
        "outputId": "f74316aa-507d-4135-c634-935d2e31e5a3"
      },
      "source": [
        "query = \"\"\"\n",
        "SELECT  Distinct Departamento  \n",
        "FROM `seleccion-analyticlab.HomicidiosColombia.Homicidios_2018` \n",
        "\"\"\"\n",
        "query_job = client.query(query)\n",
        "results_Departamento = query_job.result().to_dataframe()\n",
        "print(results_Departamento[:5])"
      ],
      "execution_count": null,
      "outputs": [
        {
          "output_type": "stream",
          "text": [
            "  Departamento\n",
            "0         None\n",
            "1         META\n",
            "2        CAUCA\n",
            "3        CESAR\n",
            "4        HUILA\n"
          ],
          "name": "stdout"
        }
      ]
    },
    {
      "cell_type": "code",
      "metadata": {
        "id": "oSWpniYJBj-w",
        "colab_type": "code",
        "colab": {
          "base_uri": "https://localhost:8080/",
          "height": 272
        },
        "outputId": "f181f7ca-962d-4f40-dfd2-35ab3db97529"
      },
      "source": [
        "query = \"\"\"\n",
        "SELECT  Hora\n",
        "        ,Count(*) AS Count  \n",
        "FROM `seleccion-analyticlab.HomicidiosColombia.Homicidios_2018` \n",
        "GROUP BY Hora\n",
        "\"\"\"\n",
        "query_job = client.query(query)\n",
        "results_Hora = query_job.result().to_dataframe()\n",
        "print(results_Hora)"
      ],
      "execution_count": null,
      "outputs": [
        {
          "output_type": "stream",
          "text": [
            "         Hora  Count\n",
            "0        None      1\n",
            "1    11:24:00      2\n",
            "2    20:30:00     80\n",
            "3    13:10:00     12\n",
            "4    20:57:00      3\n",
            "..        ...    ...\n",
            "830  18:41:00      1\n",
            "831   1:08:00      1\n",
            "832  10:26:00      1\n",
            "833  23:08:00      1\n",
            "834   9:55:00      1\n",
            "\n",
            "[835 rows x 2 columns]\n"
          ],
          "name": "stdout"
        }
      ]
    },
    {
      "cell_type": "code",
      "metadata": {
        "id": "dMFpU9CHI8H_",
        "colab_type": "code",
        "colab": {
          "base_uri": "https://localhost:8080/",
          "height": 181
        },
        "outputId": "c177920b-11ce-47ef-e7e6-244a7ea609ff"
      },
      "source": [
        "query = \"\"\"\n",
        "SELECT  Profesion\n",
        "        ,Count(*) AS Count  \n",
        "FROM `seleccion-analyticlab.HomicidiosColombia.Homicidios_2018` \n",
        "GROUP BY Profesion\n",
        "\"\"\"\n",
        "query_job = client.query(query)\n",
        "results_Profesion = query_job.result().to_dataframe()\n",
        "print(results_Profesion.sort_values('Count',ascending=False)[:8])"
      ],
      "execution_count": null,
      "outputs": [
        {
          "output_type": "stream",
          "text": [
            "                                     Profesion  Count\n",
            "1                                            -   4838\n",
            "3                                 NO REPORTADA     47\n",
            "7   TECNICO PROFESIONAL EN SERVICIO DE POLICIA     24\n",
            "4                                     POLICIAS     13\n",
            "5                                      DERECHO      4\n",
            "12                                  LICENCIADO      4\n",
            "13                                   INGENIERO      4\n",
            "15                       INGENIERÍA INDUSTRIAL      2\n"
          ],
          "name": "stdout"
        }
      ]
    },
    {
      "cell_type": "code",
      "metadata": {
        "id": "TPeBIsQmW61Q",
        "colab_type": "code",
        "colab": {
          "base_uri": "https://localhost:8080/",
          "height": 108
        },
        "outputId": "3e5ada5b-1989-4318-f825-15b4a3e5f5f3"
      },
      "source": [
        "query = \"\"\"\n",
        "SELECT  Cantidad\n",
        "        ,Count(*) AS Count  \n",
        "FROM `seleccion-analyticlab.HomicidiosColombia.Homicidios_2018` \n",
        "GROUP BY Cantidad\n",
        "\"\"\"\n",
        "query_job = client.query(query)\n",
        "results_Cantidad = query_job.result().to_dataframe()\n",
        "print(results_Cantidad)"
      ],
      "execution_count": null,
      "outputs": [
        {
          "output_type": "stream",
          "text": [
            "  Cantidad  Count\n",
            "0    12667      1\n",
            "1        1   4957\n",
            "2        3      1\n",
            "3        2      7\n"
          ],
          "name": "stdout"
        }
      ]
    },
    {
      "cell_type": "markdown",
      "metadata": {
        "id": "b0Aj4fuUdllT",
        "colab_type": "text"
      },
      "source": [
        "## Data insights"
      ]
    },
    {
      "cell_type": "markdown",
      "metadata": {
        "id": "W_P6qf2Pd9nK",
        "colab_type": "text"
      },
      "source": [
        "###What were the top municipalities with highest quantity of murders by month?"
      ]
    },
    {
      "cell_type": "code",
      "metadata": {
        "id": "Fy2NC467eYmB",
        "colab_type": "code",
        "colab": {}
      },
      "source": [
        "query = \"\"\"\n",
        "SELECT Municipio\n",
        "        ,Fecha\n",
        "FROM `seleccion-analyticlab.HomicidiosColombia.Homicidios_2018` \n",
        "WHERE Cantidad <> 12667\n",
        "\"\"\"\n",
        "query_job = client.query(query)\n",
        "results_municipios = query_job.result().to_dataframe()"
      ],
      "execution_count": null,
      "outputs": []
    },
    {
      "cell_type": "code",
      "metadata": {
        "id": "u-WCZtbel_La",
        "colab_type": "code",
        "colab": {}
      },
      "source": [
        "# Se corrige el formato en el que se encuentra la variable Fecha\n",
        "results_municipios['Fecha']=results_municipios['Fecha'].str.slice(3,5)\n",
        "# Organizacion de los valores\n",
        "Count_muni= results_municipios.pivot_table(index=['Fecha','Municipio'],aggfunc='size') #Homicidios por mes y municipio\n",
        "Count_muni= Count_muni.reset_index(level=[0,1])\n",
        "Count_muni= Count_muni.sort_values(['Fecha',0],ascending = False) \n",
        "Count_muni= Count_muni.set_index('Fecha')"
      ],
      "execution_count": null,
      "outputs": []
    },
    {
      "cell_type": "code",
      "metadata": {
        "id": "9hlJE51rb-jf",
        "colab_type": "code",
        "colab": {
          "base_uri": "https://localhost:8080/",
          "height": 478
        },
        "outputId": "c53fd737-6856-4028-f7b9-4218416c4ef9"
      },
      "source": [
        "# Grafica\n",
        "Next = True\n",
        "meses=['01','02','03','04','05','06','07','08','09','10','11','12']\n",
        "meses_names=['Enero','Febrero','Marzo','Abril','Mayo','Junio','Julio','Agosto','Septiembre','Octubre','Noviembre','Diciembre']\n",
        "while Next == True :\n",
        "  incorrecto_mes= True\n",
        "  intentos_mes=0\n",
        "  while incorrecto_mes and intentos_mes<3:\n",
        "    mes_in=input(\"Ingrese el mes que desea visualizar (01,02,...,12):\\n \")\n",
        "    if (mes_in not in meses):\n",
        "      print('El valor ingresado no es correcto, intente nuevamente: ')\n",
        "      intentos_mes+=1\n",
        "    else:\n",
        "      incorrecto_mes= False\n",
        "      info_mes= Count_muni.loc[mes_in]\n",
        "  incorrecto_top = True \n",
        "  intentos_top=0\n",
        "  while (not incorrecto_mes) and incorrecto_top and intentos_top<3 :\n",
        "    top_in= int(input('¿Cuantos valores desea visualizar en el top?:\\n '))\n",
        "    if top_in >= len(info_mes):\n",
        "      print('El valor ingresado es mayor al número de municipios con homicidios, intentelo nuevamente')\n",
        "      intentos_top+=1\n",
        "    else:\n",
        "      incorrecto_top = False\n",
        "  if ((not incorrecto_mes) and (not incorrecto_top)):\n",
        "    chart_b=plt.bar(info_mes['Municipio'][:top_in],info_mes[0][:top_in])\n",
        "    plt.xticks(rotation=90)\n",
        "    plt.title('Top para el mes de '+meses_names[int(mes_in)-1])\n",
        "    plt.xlabel('Municipio')\n",
        "    plt.ylabel('# de Homicidios')\n",
        "    plt.show()\n",
        "  otro= input('¿Desea Visualizar otro mes?(Si/No): ')\n",
        "  if otro=='Si':\n",
        "    Next=True\n",
        "  else:\n",
        "    Next=False"
      ],
      "execution_count": null,
      "outputs": [
        {
          "output_type": "stream",
          "text": [
            "Ingrese el mes que desea visualizar (01,02,...,12):\n",
            " 05\n",
            "¿Cuantos valores desea visualizar en el top?:\n",
            " 5\n"
          ],
          "name": "stdout"
        },
        {
          "output_type": "display_data",
          "data": {
            "image/png": "[encoded data removed]",
            "text/plain": [
              "<Figure size 432x288 with 1 Axes>"
            ]
          },
          "metadata": {
            "tags": [],
            "needs_background": "light"
          }
        },
        {
          "output_type": "stream",
          "text": [
            "¿Desea Visualizar otro mes?(Si/No): No\n"
          ],
          "name": "stdout"
        }
      ]
    },
    {
      "cell_type": "markdown",
      "metadata": {
        "id": "vFm1WtiB2ud3",
        "colab_type": "text"
      },
      "source": [
        "### For Bogota, what neighborhoods reported greater amount of murders between 6 at night and 12 midnight."
      ]
    },
    {
      "cell_type": "code",
      "metadata": {
        "id": "K6d-wo082_PZ",
        "colab_type": "code",
        "colab": {}
      },
      "source": [
        "query = \"\"\"\n",
        "SELECT   Barrio\n",
        "        , Count(*) AS Total\n",
        "FROM `seleccion-analyticlab.HomicidiosColombia.Homicidios_2018`\n",
        "WHERE Municipio = 'BOGOTÁ D.C. (CT)' AND (Hora Between '18:00:00' AND '24:00:00' ) AND Cantidad <> 12667\n",
        "GROUP BY Barrio\n",
        "\"\"\"\n",
        "query_job = client.query(query)\n",
        "results_top_barrios = query_job.result().to_dataframe()\n",
        "results_top_barrios=results_top_barrios.sort_values('Total', ascending= False)"
      ],
      "execution_count": null,
      "outputs": []
    },
    {
      "cell_type": "code",
      "metadata": {
        "id": "fjsTBWsaOWBJ",
        "colab_type": "code",
        "colab": {
          "base_uri": "https://localhost:8080/",
          "height": 471
        },
        "outputId": "e944fa0b-2c8c-4e50-ff87-aca79e551ff0"
      },
      "source": [
        "# Grafica\n",
        "Next = True\n",
        "incorrecto_top = True \n",
        "intentos_top=0\n",
        "while incorrecto_top and intentos_top<3 :\n",
        "  top_in= int(input('¿Cuantos barrios desea visualizar en el top?:\\n '))\n",
        "  if top_in >= len(results_top_barrios):\n",
        "    print('El valor ingresado es mayor al número de barrios con homicidios, intentelo nuevamente')\n",
        "    intentos_top+=1\n",
        "  else:\n",
        "    incorrecto_top = False\n",
        "if (not incorrecto_top):\n",
        "  chart_b=plt.bar(results_top_barrios['Barrio'][:top_in],results_top_barrios['Total'][:top_in])\n",
        "  plt.xticks(rotation=90)\n",
        "  plt.title('Top de barrios con más homicidios')\n",
        "  plt.xlabel('Barrio')\n",
        "  plt.ylabel('# de Homicidios')\n",
        "  plt.show()"
      ],
      "execution_count": null,
      "outputs": [
        {
          "output_type": "stream",
          "text": [
            "¿Cuantos barrios desea visualizar en el top?:\n",
            " 5\n"
          ],
          "name": "stdout"
        },
        {
          "output_type": "display_data",
          "data": {
            "image/png": "[encoded data removed]",
            "text/plain": [
              "<Figure size 432x288 with 1 Axes>"
            ]
          },
          "metadata": {
            "tags": [],
            "needs_background": "light"
          }
        }
      ]
    },
    {
      "cell_type": "markdown",
      "metadata": {
        "id": "veDnH2UJli7G",
        "colab_type": "text"
      },
      "source": [
        "### What other insights can you extract from this dataset"
      ]
    },
    {
      "cell_type": "markdown",
      "metadata": {
        "id": "LzVtFWL5COqR",
        "colab_type": "text"
      },
      "source": [
        "Algunos ejemplos de la información que se puede extraer de este dataset son:\n",
        "- Las horas con mayor número de Homicidios.\n",
        "- Las armás más comunes empleadas para Homicidios. \n",
        "- Las zonas más seguras de cada ciudad en terminos de homicidios. \n",
        "- Las capitales com mayor o menos número de homicidios. "
      ]
    },
    {
      "cell_type": "markdown",
      "metadata": {
        "id": "JBzefmwrlt4Y",
        "colab_type": "text"
      },
      "source": [
        "## Machine Learning"
      ]
    },
    {
      "cell_type": "markdown",
      "metadata": {
        "id": "SUHHMlHN9pbg",
        "colab_type": "text"
      },
      "source": [
        "### Would make sense a machine learning model for supporting the police force in its work?  What kind of model would you choose (regression, classification, clustering)?"
      ]
    },
    {
      "cell_type": "markdown",
      "metadata": {
        "id": "gTjZpIyIF4-T",
        "colab_type": "text"
      },
      "source": [
        "Si, tendría sentido ya que la información proporcionada por un modelo de machine learning puede ser utilizada para predecir las zonas más vulnerables y la cantidad de casos que se deben tratar en cierto día. Esta información puede ser de gran utilidad para optimizar la operación de la policia. \n",
        "En este caso utilizaria una regresión para predecir el número de homicidios que sucederan en los proximos diás. "
      ]
    },
    {
      "cell_type": "code",
      "metadata": {
        "id": "XDOqhXKUQDTj",
        "colab_type": "code",
        "colab": {}
      },
      "source": [
        "query = \"\"\"\n",
        "SELECT  Fecha\n",
        "        ,Dia\n",
        "FROM `seleccion-analyticlab.HomicidiosColombia.Homicidios_2018`\n",
        "WHERE Cantidad <> 12667\n",
        "\"\"\"\n",
        "query_job = client.query(query)\n",
        "results_dia_pais = query_job.result().to_dataframe()"
      ],
      "execution_count": null,
      "outputs": []
    },
    {
      "cell_type": "code",
      "metadata": {
        "id": "1c8k3z6bZFBn",
        "colab_type": "code",
        "colab": {}
      },
      "source": [
        "#Se corrige el formato de fecha \n",
        "results_dia_pais['Fecha']=pd.to_datetime(results_dia_pais['Fecha'].str.slice(0,10))\n",
        "# Se calcula el total de asesinatos por dia\n",
        "count_dia_pais= results_dia_pais.pivot_table(index=['Fecha','Dia'],aggfunc='size')\n",
        "count_dia_pais= count_dia_pais.reset_index(level=[0,1])\n",
        "count_dia_pais= count_dia_pais.sort_values('Fecha')\n",
        "#Se cambia la columna de fecha\n",
        "count_dia_pais['Fecha']= (count_dia_pais['Fecha']-count_dia_pais['Fecha'][0]).dt.days"
      ],
      "execution_count": null,
      "outputs": []
    },
    {
      "cell_type": "code",
      "metadata": {
        "id": "k7WxeO-XZV0l",
        "colab_type": "code",
        "colab": {}
      },
      "source": [
        "# Se calculan los dummies\n",
        "df_dia_pais= pd.get_dummies(count_dia_pais)\n",
        "df_dia_pais=df_dia_pais.rename(columns={0:'Total'})\n",
        "y= df_dia_pais['Total']\n",
        "x= df_dia_pais.drop(columns='Total')"
      ],
      "execution_count": null,
      "outputs": []
    },
    {
      "cell_type": "markdown",
      "metadata": {
        "id": "6qkR9QFlZjES",
        "colab_type": "text"
      },
      "source": [
        "Se divide en datos de entrenamiento y prueba. A pesar de que usualmente esto se hace aleatoriamente, es necesario tener en cuenta que se esta trabajando con una serie de tiempo"
      ]
    },
    {
      "cell_type": "code",
      "metadata": {
        "id": "TV0R02laZcQG",
        "colab_type": "code",
        "colab": {}
      },
      "source": [
        "#Se divide en datos de entrenamiento y prueba\n",
        "n_train=int(np.ceil(len(y)*0.70))\n",
        "X_train= x.iloc[:n_train]\n",
        "X_test= x.iloc[n_train:]\n",
        "Y_train= y.iloc[:n_train]\n",
        "Y_test= y.iloc[n_train:]"
      ],
      "execution_count": null,
      "outputs": []
    },
    {
      "cell_type": "code",
      "metadata": {
        "id": "AVazCckoaQCF",
        "colab_type": "code",
        "colab": {}
      },
      "source": [
        "#Modelo\n",
        "model= LinearRegression()\n",
        "\n",
        "# fit linear regression\n",
        "m.fit(X_train, Y_train)"
      ],
      "execution_count": null,
      "outputs": []
    },
    {
      "cell_type": "code",
      "metadata": {
        "id": "ldh_6F5ypEse",
        "colab_type": "code",
        "colab": {
          "base_uri": "https://localhost:8080/",
          "height": 72
        },
        "outputId": "f28af020-3b30-4e02-ed95-4cda87296706"
      },
      "source": [
        "#Modelo\n",
        "model= LinearRegression()\n",
        "model.fit(X_train, Y_train)\n",
        "print(model.intercept_)\n",
        "print(model.coef_)\n",
        "# [ 5.97694123 19.37771052]"
      ],
      "execution_count": null,
      "outputs": [
        {
          "output_type": "stream",
          "text": [
            "35.09736071056576\n",
            "[-4.11911156e-03  1.76364541e+01 -4.62833121e+00  2.38060852e-01\n",
            " -7.40084472e+00 -4.92637462e+00  5.58503261e+00 -6.50399698e+00]\n"
          ],
          "name": "stdout"
        }
      ]
    },
    {
      "cell_type": "markdown",
      "metadata": {
        "id": "o8E5_OB6a-xf",
        "colab_type": "text"
      },
      "source": [
        "En el proceso de selección, se realizaron pruebas con otros metodos como random forest. El mejor resultado se encontró con la regresión lineal que se evalúa a continuación. "
      ]
    },
    {
      "cell_type": "code",
      "metadata": {
        "id": "ObpHrJK5Ku5K",
        "colab_type": "code",
        "colab": {
          "base_uri": "https://localhost:8080/",
          "height": 35
        },
        "outputId": "fff7b9a6-a681-4cf4-d7cb-be79f9dde311"
      },
      "source": [
        "model.score(X_test,Y_test)"
      ],
      "execution_count": null,
      "outputs": [
        {
          "output_type": "execute_result",
          "data": {
            "text/plain": [
              "0.6327655195678854"
            ]
          },
          "metadata": {
            "tags": []
          },
          "execution_count": 41
        }
      ]
    },
    {
      "cell_type": "markdown",
      "metadata": {
        "id": "aENbqJOSbtvD",
        "colab_type": "text"
      },
      "source": [
        "###How would you deploy your model?\n",
        "Integraría el modelo con la plataforma que maneje la policia para la asignación de turnos( En el caso en el que se cuente con una), con el fin de optimizar la cantidad de policias en relación a los posibles homicidios que se puedan presentar ese día. Como trabajo futuro se podría mejorar el modelo para tener en cuenta otros tipo de crimenes, los barrios y la cercania entre estos para hacer planeación de ruta de las patrullas. "
      ]
    }
  ]
}